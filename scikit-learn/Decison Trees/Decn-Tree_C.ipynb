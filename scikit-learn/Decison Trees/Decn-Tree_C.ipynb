{
 "cells": [
  {
   "cell_type": "markdown",
   "id": "dcb5014a",
   "metadata": {},
   "source": [
    "# Decision Tree Classifier"
   ]
  },
  {
   "cell_type": "markdown",
   "id": "bc32fb75",
   "metadata": {},
   "source": [
    "---"
   ]
  },
  {
   "cell_type": "markdown",
   "id": "672a621d",
   "metadata": {},
   "source": [
    "<center>\n",
    "<img src=\"https://www.researchgate.net/profile/Jose-Sa-3/publication/303773171/figure/fig2/AS:391407152975874@1470330145270/a-describes-the-components-of-a-decision-tree-the-Nodes-represent-the-possible.png\">\n",
    "    \n",
    "    "
   ]
  },
  {
   "cell_type": "markdown",
   "id": "648a5b71",
   "metadata": {},
   "source": [
    "Decision Tree basically is just a collection of `if-else` statements. <br> Decision Tree classification answers the boolean of `True or False` through a series of branches until it reaches a node."
   ]
  },
  {
   "cell_type": "markdown",
   "id": "af7dbc3b",
   "metadata": {},
   "source": [
    "### Example:\n",
    "\n",
    "<center>\n",
    "<img src=\"https://wcs.smartdraw.com/decision-tree/img/decision-tree-1.jpg?bn=15100111822\">"
   ]
  },
  {
   "cell_type": "markdown",
   "id": "2659cfb7-19ea-4d94-956f-b51090837394",
   "metadata": {},
   "source": [
    "---"
   ]
  },
  {
   "cell_type": "markdown",
   "id": "a7ac8800-b7b7-45cc-9479-1a6e5df72b00",
   "metadata": {},
   "source": [
    "## Gini (Gini Index) and Entropy (Information Gain)"
   ]
  },
  {
   "cell_type": "markdown",
   "id": "9d71dfb5-5103-40df-b469-327cf5e0ce3b",
   "metadata": {},
   "source": [
    "In decision trees, the algorithm decides ***how to create the tree***.\n",
    "\n",
    "#### Gini\n",
    "In Gini Index, the algorithm will calculate the possible splits across all columns, and the column with the ***minimum number of gini index*** will be the column condition represented as a split in the root node. \n",
    "\n",
    "*The gini index is the default splitting method of the* `DecisionTreeClassifier()`.\n",
    "\n",
    "#### Entropy"
   ]
  },
  {
   "cell_type": "markdown",
   "id": "e60914ec",
   "metadata": {},
   "source": [
    "Datasets in decision trees can be ordered in terms of its entropy. Entropy is the measure of randomness in the data.\n",
    "\n",
    "As much as possible, always strive to have datasets that have **LOW ENTROPY**.\n",
    "\n",
    "   - Datasets with low entropy signifies that there is a low level of disorder in the data, hence we can gain much more valuable information from the data becuase it is ordered more properly (high information gain). Consequently, datasets with high entropy signifies that there is a high level of disorder in the data, hence we can gain less valuable information from the data (low information gain)."
   ]
  },
  {
   "cell_type": "markdown",
   "id": "21b2f3f8",
   "metadata": {},
   "source": [
    "<center>\n",
    "<img src=\"entropy.jpg\">"
   ]
  },
  {
   "cell_type": "markdown",
   "id": "afbf3d3d",
   "metadata": {},
   "source": [
    "---"
   ]
  },
  {
   "cell_type": "code",
   "execution_count": null,
   "id": "bd33bdfa",
   "metadata": {},
   "outputs": [],
   "source": [
    "from sklearn.tree import DecisionTreeClassifier"
   ]
  },
  {
   "cell_type": "code",
   "execution_count": null,
   "id": "ced2427e",
   "metadata": {},
   "outputs": [],
   "source": [
    "# Variables to be used\n",
    "features = df[['colname1','colname2','colname3']]\n",
    "target = df['colname4']"
   ]
  },
  {
   "cell_type": "code",
   "execution_count": null,
   "id": "e02058b6",
   "metadata": {},
   "outputs": [],
   "source": [
    "model = DecisionTreeClassifier()\n",
    "    # Use decision tree as a classifier and store it in the variable model\n",
    "\n",
    "model.fit(features,target)\n",
    "    # Train the decision tree classifier \n",
    "    # Uses features as the independent variable/s and target as the dependent variable\n",
    "    \n",
    "model.predict([[0,1,2]])\n",
    "    # Input a parameter based on the features and predict the outcome\n",
    "    # The features need to be label encoded first\n",
    "    \n",
    "model.score(features, target)\n",
    "    # Determine the score of the model"
   ]
  }
 ],
 "metadata": {
  "kernelspec": {
   "display_name": "Python 3 (ipykernel)",
   "language": "python",
   "name": "python3"
  },
  "language_info": {
   "codemirror_mode": {
    "name": "ipython",
    "version": 3
   },
   "file_extension": ".py",
   "mimetype": "text/x-python",
   "name": "python",
   "nbconvert_exporter": "python",
   "pygments_lexer": "ipython3",
   "version": "3.9.12"
  }
 },
 "nbformat": 4,
 "nbformat_minor": 5
}
