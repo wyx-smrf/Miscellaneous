{
 "cells": [
  {
   "cell_type": "markdown",
   "id": "b2bd5554-1dc5-4578-82e8-08cf521539ba",
   "metadata": {},
   "source": [
    "# Train Test Split"
   ]
  },
  {
   "cell_type": "code",
   "execution_count": null,
   "id": "db9005b0-6e5b-4be9-99af-385a20c13b9a",
   "metadata": {},
   "outputs": [],
   "source": [
    "X = np.array(df[['colname1', 'colname2', 'colname3', 'colname4']])\n",
    "    # Independent Variables\n",
    "\n",
    "y = np.array(df[['colname5']]) \n",
    "    # Dependent Variables\n",
    "\n",
    "X_train, X_test, y_train, y_test = train_test_split(X, y, \n",
    "                                                    test_size=0.2,       # Proportion of test data (20% test data)\n",
    "                                                    random_state = 100)  # Fixed shuffled data across different runs      \n",
    "    # Splits the data into train and test sets"
   ]
  }
 ],
 "metadata": {
  "kernelspec": {
   "display_name": "Python 3 (ipykernel)",
   "language": "python",
   "name": "python3"
  },
  "language_info": {
   "codemirror_mode": {
    "name": "ipython",
    "version": 3
   },
   "file_extension": ".py",
   "mimetype": "text/x-python",
   "name": "python",
   "nbconvert_exporter": "python",
   "pygments_lexer": "ipython3",
   "version": "3.9.12"
  }
 },
 "nbformat": 4,
 "nbformat_minor": 5
}
