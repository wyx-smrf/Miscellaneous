{
 "cells": [
  {
   "cell_type": "markdown",
   "id": "f84914f8",
   "metadata": {},
   "source": [
    "# Perform a k-nearest neighbors (KNN) algorithm"
   ]
  },
  {
   "cell_type": "code",
   "execution_count": null,
   "id": "1bcf939f",
   "metadata": {},
   "outputs": [],
   "source": [
    "from sklearn.neighbors import KNeighborsClassifier"
   ]
  },
  {
   "cell_type": "code",
   "execution_count": null,
   "id": "e1f4dcf9",
   "metadata": {},
   "outputs": [],
   "source": [
    "# Set the target and the features\n",
    "y = df['colname'].values                  # Target\n",
    "X = df.drop('colname', axis=1).values     # Features"
   ]
  },
  {
   "cell_type": "code",
   "execution_count": null,
   "id": "62f06117",
   "metadata": {},
   "outputs": [],
   "source": [
    "knn = KNeighborsClassifier(n_neighbors=6)\n",
    "    # Store the KNN classifier with 6 neighbors in the variable knn\n",
    "    # The larger the n_neighbors the smoother it creates a decision boundary\n",
    "\n",
    "knn.fit(X,y)\n",
    "    # Train the KNN classifier\n",
    "    \n",
    "y_pred = knn.predict(X)\n",
    "    # Predict the labels for the training data X"
   ]
  },
  {
   "cell_type": "markdown",
   "id": "810d5f8e",
   "metadata": {},
   "source": [
    "---"
   ]
  },
  {
   "cell_type": "markdown",
   "id": "1ae2e0ce",
   "metadata": {},
   "source": [
    "# Use k-nearest neighbors with a new dataset"
   ]
  },
  {
   "cell_type": "code",
   "execution_count": null,
   "id": "1e48e261",
   "metadata": {},
   "outputs": [],
   "source": [
    "new_prediction = knn.predict(X_new)\n",
    "    # Predict the label for X_new\n",
    "    # X_new is an independent new data\n",
    "    \n",
    "print(\"Prediction: {}\".format(new_prediction))\n",
    "    # Print the label for the new data point X_new"
   ]
  }
 ],
 "metadata": {
  "kernelspec": {
   "display_name": "Python 3 (ipykernel)",
   "language": "python",
   "name": "python3"
  },
  "language_info": {
   "codemirror_mode": {
    "name": "ipython",
    "version": 3
   },
   "file_extension": ".py",
   "mimetype": "text/x-python",
   "name": "python",
   "nbconvert_exporter": "python",
   "pygments_lexer": "ipython3",
   "version": "3.9.12"
  }
 },
 "nbformat": 4,
 "nbformat_minor": 5
}
