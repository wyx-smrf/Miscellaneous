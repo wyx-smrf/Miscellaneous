{
 "cells": [
  {
   "cell_type": "markdown",
   "id": "43f0dd09",
   "metadata": {},
   "source": [
    "# Linear Regression Single Variable"
   ]
  },
  {
   "cell_type": "markdown",
   "id": "80dbe8aa",
   "metadata": {},
   "source": [
    "Formula for Linear Regression: $y=mx+b$"
   ]
  },
  {
   "cell_type": "markdown",
   "id": "43c3082d",
   "metadata": {},
   "source": [
    "---"
   ]
  },
  {
   "cell_type": "code",
   "execution_count": null,
   "id": "fbbc58f4",
   "metadata": {},
   "outputs": [],
   "source": [
    "# General Importing (recommended)\n",
    "from sklearn import linear_model\n",
    "\n",
    "# Specific Importing\n",
    "from sklearn.linear_model import LinearRegression"
   ]
  },
  {
   "cell_type": "markdown",
   "id": "b0d277a9",
   "metadata": {},
   "source": [
    "Perform a linear regression with single variable:\n",
    "\n",
    "**Note**: In the `reg.predict`, you can pass a dataset inside the parenthesis, provided that the dataset is only one column that represents the values of x."
   ]
  },
  {
   "cell_type": "code",
   "execution_count": null,
   "id": "57eca958",
   "metadata": {},
   "outputs": [],
   "source": [
    "reg = linear_model.LinearRegression()\n",
    "    # Perform a Linear Regression under the variable reg\n",
    "\n",
    "reg.fit(df[['x-column']].values,df['y-column']) \n",
    "    # Train the values of x column to predict the y column\n",
    "    # You can also use x = df['x-column'].values.reshape(-1,1) to transform x values to 2D array\n",
    "\n",
    "reg.predict([[2000]])\n",
    "    # What is the value of y if the x is 2000"
   ]
  },
  {
   "cell_type": "markdown",
   "id": "2d255f5f",
   "metadata": {},
   "source": [
    "Determine the score and coefficients of the linear regression:"
   ]
  },
  {
   "cell_type": "code",
   "execution_count": null,
   "id": "fdbbb5ba",
   "metadata": {},
   "outputs": [],
   "source": [
    "reg.score(df[['x-column']].values,df['y-column'])\n",
    "    # The r-squared of the linear regression\n",
    "\n",
    "reg.coef_ \n",
    "    # The value of m in the linear regression\n",
    "\n",
    "reg.intercept_\n",
    "    # The value of b in the linear regression"
   ]
  },
  {
   "cell_type": "markdown",
   "id": "f6f9b7fb",
   "metadata": {},
   "source": [
    "---"
   ]
  },
  {
   "cell_type": "markdown",
   "id": "49c0cdbe",
   "metadata": {},
   "source": [
    "### Optional: Plot the data of the linear regression model"
   ]
  },
  {
   "cell_type": "code",
   "execution_count": null,
   "id": "d446fa9c",
   "metadata": {},
   "outputs": [],
   "source": [
    "# Plot data using scatter plot\n",
    "plt.scatter(df['x-column'],\n",
    "            df['y-column'],\n",
    "            color='red',\n",
    "            marker='+')\n",
    "\n",
    "# Plot data using a line\n",
    "plt.plot(df['x-column'],\n",
    "         reg.predict(df[['x-column']].values),\n",
    "         color='blue')\n",
    "\n",
    "# Specify labels of x and y axis\n",
    "plt.xlabel('Label of x-axis', fontsize=20)\n",
    "plt.ylabel('Label of y-axis', fontsize=20)\n",
    "\n",
    "# Show the plot as output\n",
    "plt.show()"
   ]
  },
  {
   "cell_type": "markdown",
   "id": "466540ca",
   "metadata": {},
   "source": [
    "---"
   ]
  },
  {
   "cell_type": "markdown",
   "id": "19fffa58",
   "metadata": {},
   "source": [
    "### Use Linear Regression with a dataset"
   ]
  },
  {
   "cell_type": "code",
   "execution_count": null,
   "id": "1d47742f",
   "metadata": {},
   "outputs": [],
   "source": [
    "dfvar = pd.read_csv('filename.csv')\n",
    "    # Import the data\n",
    "\n",
    "reg.predict(dfvar)\n",
    "    # Predict the data\n",
    "\n",
    "dfvar['y-column'] = reg.predict(dfvar)\n",
    "    # Insert the predicted data into the dataframe"
   ]
  }
 ],
 "metadata": {
  "kernelspec": {
   "display_name": "Python 3 (ipykernel)",
   "language": "python",
   "name": "python3"
  },
  "language_info": {
   "codemirror_mode": {
    "name": "ipython",
    "version": 3
   },
   "file_extension": ".py",
   "mimetype": "text/x-python",
   "name": "python",
   "nbconvert_exporter": "python",
   "pygments_lexer": "ipython3",
   "version": "3.9.12"
  }
 },
 "nbformat": 4,
 "nbformat_minor": 5
}
