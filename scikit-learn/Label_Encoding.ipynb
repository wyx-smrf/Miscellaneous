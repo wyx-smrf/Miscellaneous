{
 "cells": [
  {
   "cell_type": "markdown",
   "id": "63ac12a4",
   "metadata": {},
   "source": [
    "# scikit-learn Label Encoding "
   ]
  },
  {
   "cell_type": "markdown",
   "id": "bf7036eb",
   "metadata": {},
   "source": [
    "> We all know that we call fit_transform() method on our training data and transform() method on our test data. "
   ]
  },
  {
   "cell_type": "markdown",
   "id": "bbc9bc83",
   "metadata": {},
   "source": [
    "## Difference of fit() and transform() and fit_transform()\n",
    "\n",
    "fit() ⁠— ***trains the data*** <br>\n",
    "transform() ⁠— ***transforms the data*** <br>\n",
    "fit_transform() ⁠— ***trains and transforms the data instantaneously*** <br>"
   ]
  },
  {
   "cell_type": "markdown",
   "id": "1223ff1b",
   "metadata": {},
   "source": [
    "---"
   ]
  },
  {
   "cell_type": "markdown",
   "id": "c22b6dfc",
   "metadata": {},
   "source": [
    "# Changing categorical data into numerical data"
   ]
  },
  {
   "cell_type": "code",
   "execution_count": null,
   "id": "cf6d8b75",
   "metadata": {},
   "outputs": [],
   "source": [
    "# Import Library\n",
    "from sklearn import preprocessing"
   ]
  },
  {
   "cell_type": "code",
   "execution_count": null,
   "id": "3db87274",
   "metadata": {},
   "outputs": [],
   "source": [
    "df = pd.read_csv('filename.csv')\n",
    "    # Import the dataset\n",
    "\n",
    "le = preprocessing.LabelEncoder()\n",
    "    # Store label encoding in the variable le \n",
    "\n",
    "le.fit_transform(df['colname'])\n",
    "    # Transforms the categorical data in the (df['colname']) to a numerical data"
   ]
  },
  {
   "cell_type": "markdown",
   "id": "5c470c44",
   "metadata": {},
   "source": [
    "Encodes the data in alphabetical order"
   ]
  }
 ],
 "metadata": {
  "kernelspec": {
   "display_name": "Python 3 (ipykernel)",
   "language": "python",
   "name": "python3"
  },
  "language_info": {
   "codemirror_mode": {
    "name": "ipython",
    "version": 3
   },
   "file_extension": ".py",
   "mimetype": "text/x-python",
   "name": "python",
   "nbconvert_exporter": "python",
   "pygments_lexer": "ipython3",
   "version": "3.9.12"
  }
 },
 "nbformat": 4,
 "nbformat_minor": 5
}
