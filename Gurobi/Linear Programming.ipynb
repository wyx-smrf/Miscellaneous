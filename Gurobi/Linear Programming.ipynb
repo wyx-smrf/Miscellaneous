{
 "cells": [
  {
   "cell_type": "markdown",
   "id": "b3adbbb5",
   "metadata": {},
   "source": [
    "# Linear Programming\n",
    "\n",
    "---"
   ]
  },
  {
   "cell_type": "markdown",
   "id": "c814b4e5-d9e5-4a7b-911d-1a9388bd18a8",
   "metadata": {},
   "source": [
    "# Code in Python using gurobipy"
   ]
  },
  {
   "cell_type": "markdown",
   "id": "e00ff469-d787-423e-885b-19a2b2e866aa",
   "metadata": {},
   "source": [
    "## Step 1: Importing gurobipy package"
   ]
  },
  {
   "cell_type": "code",
   "execution_count": 1,
   "id": "ea8d762c",
   "metadata": {},
   "outputs": [],
   "source": [
    "from gurobipy import *"
   ]
  },
  {
   "cell_type": "markdown",
   "id": "17caeff2-a963-4524-af43-8c1b2cadc835",
   "metadata": {},
   "source": [
    "## Step 2: Create an optimization model\n",
    "\n",
    "Model constructor. Initially, no variables or constraints.\n",
    "\n",
    "```Python\n",
    "Model(name = '')\n",
    "```"
   ]
  },
  {
   "cell_type": "code",
   "execution_count": 5,
   "id": "cf9ac7d3-be7d-44a3-9e31-a6e256537752",
   "metadata": {},
   "outputs": [],
   "source": [
    "opt_mod = Model(name = \"linear program\")"
   ]
  },
  {
   "cell_type": "markdown",
   "id": "5dd22076-0772-4a31-b522-9cf7f172612e",
   "metadata": {
    "tags": []
   },
   "source": [
    "## Step 3: Add decision variables\n",
    "\n",
    "Add a decision variable to a model.\n",
    "\n",
    "```Python\n",
    "Model.addvar(lb = 0.0,               #(optional) lower bound \n",
    "             ub = float('inf'),      #(optional) upper bound \n",
    "             obj = 0.0,              #(optional) objective coefficient \n",
    "             vtype = GRB.CONTINUOUS, #(optional) variable type \n",
    "             name = \"\")              #(optional) name \n",
    "```"
   ]
  },
  {
   "cell_type": "code",
   "execution_count": 6,
   "id": "928a208a-3fb0-45dd-8628-5052bfe4d889",
   "metadata": {},
   "outputs": [],
   "source": [
    "x = opt_mod.addVar(name = 'x', vtype = GRB.CONTINUOUS, lb = 0)\n",
    "y = opt_mod.addVar(name = 'y', vtype = GRB.CONTINUOUS, lb = 0)"
   ]
  },
  {
   "cell_type": "markdown",
   "id": "123f583b-6a16-4659-a6ba-416f0c593dc7",
   "metadata": {},
   "source": [
    "## Step 4: Define the objective function\n",
    "\n",
    "Set the model objective equal to a expression\n",
    "\n",
    "```Python\n",
    "Model.setObjective(expr,            #New objective expression\n",
    "                   sense = None)    #GRB.MINIMIZE for minimization \n",
    "                                    #GRB.MINIMIZE for maximization \n",
    "```"
   ]
  },
  {
   "cell_type": "code",
   "execution_count": 7,
   "id": "996798c1-f03c-4294-ac2f-55c2217a4cec",
   "metadata": {},
   "outputs": [],
   "source": [
    "obj_fn = 5*x + 4*y\n",
    "opt_mod.setObjective(obj_fn, GRB.MINIMIZE)"
   ]
  },
  {
   "cell_type": "markdown",
   "id": "18c7b168-2fef-4b21-a8c4-56d02142763f",
   "metadata": {},
   "source": [
    "## Step 5: Add the constraints\n",
    "\n",
    "Add a constraint to a model.\n",
    "\n",
    "```Python\n",
    "Model.addConstr(constr,  # constraint object\n",
    "                name=\"\") # name of the constraint\n",
    "```"
   ]
  },
  {
   "cell_type": "code",
   "execution_count": 8,
   "id": "6d45e8df-472f-43cd-8007-e35d199c283d",
   "metadata": {},
   "outputs": [],
   "source": [
    "c1 = opt_mod.addConstr(  x +   y >=  8, name='c1')\n",
    "c1 = opt_mod.addConstr(2*x +   y >= 10, name='c2')\n",
    "c1 = opt_mod.addConstr(  x + 4*y >= 11, name='c3')"
   ]
  },
  {
   "cell_type": "markdown",
   "id": "d5045a3c-a900-4c7f-a04a-3aacc2b4860f",
   "metadata": {},
   "source": [
    "## Step 6: Solve the model\n",
    "\n",
    "Add a constraint to a model.\n",
    "\n",
    "```Python\n",
    "Model.optimize() # optimize the model\n",
    "\n",
    "Model.write(filename) # write model to a file\n",
    "```"
   ]
  },
  {
   "cell_type": "code",
   "execution_count": 9,
   "id": "96242926-f7c9-4403-a3dd-a8befeb6937a",
   "metadata": {},
   "outputs": [
    {
     "name": "stdout",
     "output_type": "stream",
     "text": [
      "Gurobi Optimizer version 9.5.2 build v9.5.2rc0 (win64)\n",
      "Thread count: 8 physical cores, 8 logical processors, using up to 8 threads\n",
      "Optimize a model with 3 rows, 2 columns and 6 nonzeros\n",
      "Model fingerprint: 0x6c7cdc94\n",
      "Coefficient statistics:\n",
      "  Matrix range     [1e+00, 4e+00]\n",
      "  Objective range  [4e+00, 5e+00]\n",
      "  Bounds range     [0e+00, 0e+00]\n",
      "  RHS range        [8e+00, 1e+01]\n",
      "Presolve time: 0.02s\n",
      "Presolved: 3 rows, 2 columns, 6 nonzeros\n",
      "\n",
      "Iteration    Objective       Primal Inf.    Dual Inf.      Time\n",
      "       0    0.0000000e+00   1.850000e+01   0.000000e+00      0s\n",
      "       2    3.4000000e+01   0.000000e+00   0.000000e+00      0s\n",
      "\n",
      "Solved in 2 iterations and 0.03 seconds (0.00 work units)\n",
      "Optimal objective  3.400000000e+01\n"
     ]
    }
   ],
   "source": [
    "opt_mod.optimize() # solve the model\n",
    "opt_mod.write(\"linear_model.lp\") # output the LP file of the model"
   ]
  },
  {
   "cell_type": "markdown",
   "id": "42cefb0b-791b-4a5a-b36a-06aacc3e93f4",
   "metadata": {},
   "source": [
    "## Step 7: Output the result"
   ]
  },
  {
   "cell_type": "code",
   "execution_count": 10,
   "id": "7e89ded6-a4e0-4f5a-975f-1fc54c1be6ba",
   "metadata": {},
   "outputs": [
    {
     "name": "stdout",
     "output_type": "stream",
     "text": [
      "Objective Function value: 34.000000\n",
      "x: 2\n",
      "y: 6\n"
     ]
    }
   ],
   "source": [
    "print('Objective Function value: %f' % opt_mod.objVal)\n",
    "# Get values of the decision variables\n",
    "for v in opt_mod.getVars():\n",
    "    print('%s: %g' % (v.varName, v.x))"
   ]
  },
  {
   "cell_type": "code",
   "execution_count": null,
   "id": "736a38c2-cc2e-47eb-986d-3a6117082b64",
   "metadata": {},
   "outputs": [],
   "source": []
  }
 ],
 "metadata": {
  "kernelspec": {
   "display_name": "Python 3 (ipykernel)",
   "language": "python",
   "name": "python3"
  },
  "language_info": {
   "codemirror_mode": {
    "name": "ipython",
    "version": 3
   },
   "file_extension": ".py",
   "mimetype": "text/x-python",
   "name": "python",
   "nbconvert_exporter": "python",
   "pygments_lexer": "ipython3",
   "version": "3.9.12"
  }
 },
 "nbformat": 4,
 "nbformat_minor": 5
}
