{
 "cells": [
  {
   "cell_type": "code",
   "execution_count": 2,
   "id": "b0edee27-0d94-47c8-bc6f-fc668f44b4d1",
   "metadata": {},
   "outputs": [
    {
     "name": "stdout",
     "output_type": "stream",
     "text": [
      "Gurobi Optimizer version 9.5.2 build v9.5.2rc0 (win64)\n",
      "Thread count: 8 physical cores, 8 logical processors, using up to 8 threads\n",
      "Optimize a model with 3 rows, 2 columns and 6 nonzeros\n",
      "Model fingerprint: 0x6c7cdc94\n",
      "Coefficient statistics:\n",
      "  Matrix range     [1e+00, 4e+00]\n",
      "  Objective range  [4e+00, 5e+00]\n",
      "  Bounds range     [0e+00, 0e+00]\n",
      "  RHS range        [8e+00, 1e+01]\n",
      "Presolve time: 0.01s\n",
      "Presolved: 3 rows, 2 columns, 6 nonzeros\n",
      "\n",
      "Iteration    Objective       Primal Inf.    Dual Inf.      Time\n",
      "       0    0.0000000e+00   1.850000e+01   0.000000e+00      0s\n",
      "       2    3.4000000e+01   0.000000e+00   0.000000e+00      0s\n",
      "\n",
      "Solved in 2 iterations and 0.02 seconds (0.00 work units)\n",
      "Optimal objective  3.400000000e+01\n",
      "Objective Function value: 34.000000\n",
      "x: 2\n",
      "y: 6\n"
     ]
    }
   ],
   "source": [
    "from gurobipy import *\n",
    "\n",
    "\n",
    "# Optimization model\n",
    "opt_mod = Model(name = 'linear program')\n",
    "\n",
    "# Decision variables\n",
    "x = opt_mod.addVar(name = 'x', \n",
    "                   vtype = GRB.CONTINUOUS, lb = 0)\n",
    "y = opt_mod.addVar(name = 'y', \n",
    "                   vtype = GRB.CONTINUOUS, lb = 0)\n",
    "\n",
    "# Objective function\n",
    "obj_fn = 5*x + 4*y\n",
    "opt_mod.setObjective(obj_fn, GRB.MINIMIZE)\n",
    "\n",
    "\n",
    "# Constraints\n",
    "c1 = opt_mod.addConstr(  x +   y >=  8, name='c1')\n",
    "c1 = opt_mod.addConstr(2*x +   y >= 10, name='c2')\n",
    "c1 = opt_mod.addConstr(  x + 4*y >= 11, name='c3')\n",
    "\n",
    "\n",
    "# Solve the model\n",
    "opt_mod.optimize() # solve the model\n",
    "opt_mod.write(\"linear_model.lp\") # output the LP file of the model\n",
    "\n",
    "\n",
    "# Output the results\n",
    "print('Objective Function value: %f' % opt_mod.objVal)\n",
    "# Get values of the decision variables\n",
    "for v in opt_mod.getVars():\n",
    "    print('%s: %g' % (v.varName, v.x))"
   ]
  },
  {
   "cell_type": "code",
   "execution_count": null,
   "id": "a1325b12-da60-49b9-a9cf-4f9bc9a03d28",
   "metadata": {},
   "outputs": [],
   "source": [
    "def lin_prog():\n",
    "    \n",
    "    model = Model(name \"Linear Program\")"
   ]
  }
 ],
 "metadata": {
  "kernelspec": {
   "display_name": "Python 3 (ipykernel)",
   "language": "python",
   "name": "python3"
  },
  "language_info": {
   "codemirror_mode": {
    "name": "ipython",
    "version": 3
   },
   "file_extension": ".py",
   "mimetype": "text/x-python",
   "name": "python",
   "nbconvert_exporter": "python",
   "pygments_lexer": "ipython3",
   "version": "3.9.12"
  }
 },
 "nbformat": 4,
 "nbformat_minor": 5
}
