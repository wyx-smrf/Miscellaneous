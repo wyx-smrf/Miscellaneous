{
 "cells": [
  {
   "cell_type": "markdown",
   "metadata": {},
   "source": [
    "\n",
    "# Mixed Integer Linear Programming (MILP)\n",
    "\n",
    "## Introduction\n",
    "\n",
    "* Some variables are restricted to be integers\n",
    "* NP-complete\n",
    "* Applications\n",
    "    * Production planning\n",
    "    * Scheduling\n",
    "    * Many more...\n",
    "* Exact Algorithms\n",
    "    * Cutting plane methods\n",
    "    * Variants of branch and bound\n",
    "* Heuristic Methods\n",
    "    * LP relaxation\n",
    "    * Tabu search\n",
    "\n",
    "## The standard form\n",
    "\n",
    "\\begin{align}\n",
    "\\text{maximize}\\  & \\mathbf{c}^T\\mathbf{x} + \\mathbf{k}^T\\mathbf{y} \\\\\n",
    "\\text{subject to } & \\\\\n",
    "& A\\mathbf{x} &&\\leq \\mathbf{b} \\\\\n",
    "& D\\mathbf{y} &&\\leq \\mathbf{e} \\\\\n",
    "& \\mathbf{x},\\mathbf{y} &&\\geq 0 \\\\\n",
    "& \\mathbf{x} \\in \\mathbb{Z}^n\n",
    "\\end{align}\n",
    "where $A, D \\in \\mathbb{R}^{m\\times n}$ are matrices, $\\mathbf{b}, \\mathbf{e}\\in\\mathbb{R}^{m}$ are constants, $\\mathbf{c}, \\mathbf{k} \\in \\mathbb{R}^{n}$ objective function coefficients, and $\\mathbf{x}, \\mathbf{y} \\in\\mathbb{R}^{n}$ are the decision variables.\n",
    "\n",
    "\n",
    "## Gurobi basics: Mixed Integer Programming Model\n",
    "## Mathematical Model\n",
    "\\begin{align}\n",
    "\\text{maximize}\\  & 2x + y + 3z \\\\\n",
    "\\text{subject to } & \\\\\n",
    "& x+2y+z &&\\leq 4 \\\\\n",
    "& 2z + y &&\\leq 5 \\\\\n",
    "& x + y &&\\geq 1 \\\\\n",
    "& x &&\\in \\{0,1\\} \\\\\n",
    "& y, z \\geq 0 \\\\\n",
    "& z \\in \\mathbb{Z}\n",
    "\\end{align}"
   ]
  },
  {
   "cell_type": "markdown",
   "metadata": {},
   "source": [
    "# Code in Python using gurobipy\n",
    "## Step 1: Importing gurobipy package"
   ]
  },
  {
   "cell_type": "code",
   "execution_count": 1,
   "metadata": {},
   "outputs": [],
   "source": [
    "from gurobipy import *"
   ]
  },
  {
   "cell_type": "markdown",
   "metadata": {},
   "source": [
    "## Step 2: Create an optimization model"
   ]
  },
  {
   "cell_type": "code",
   "execution_count": 2,
   "metadata": {},
   "outputs": [
    {
     "name": "stdout",
     "output_type": "stream",
     "text": [
      "Restricted license - for non-production use only - expires 2023-10-25\n"
     ]
    }
   ],
   "source": [
    "milp_model = Model(\"milp\")"
   ]
  },
  {
   "cell_type": "markdown",
   "metadata": {},
   "source": [
    "## Step 3: Add decision variables"
   ]
  },
  {
   "cell_type": "code",
   "execution_count": 3,
   "metadata": {},
   "outputs": [],
   "source": [
    "x = milp_model.addVar(vtype=GRB.BINARY, name=\"x\")\n",
    "y = milp_model.addVar(vtype=GRB.CONTINUOUS, lb=0, name=\"y\")\n",
    "z = milp_model.addVar(vtype=GRB.INTEGER, lb=0, name=\"z\")"
   ]
  },
  {
   "cell_type": "markdown",
   "metadata": {},
   "source": [
    "## Step 4: Define the objective function"
   ]
  },
  {
   "cell_type": "code",
   "execution_count": 4,
   "metadata": {},
   "outputs": [],
   "source": [
    "obj_fn = 2 * x + y + 3 * z\n",
    "milp_model.setObjective(obj_fn, GRB.MAXIMIZE)"
   ]
  },
  {
   "cell_type": "markdown",
   "metadata": {},
   "source": [
    "## Step 5: Add the constraints"
   ]
  },
  {
   "cell_type": "code",
   "execution_count": 5,
   "metadata": {},
   "outputs": [],
   "source": [
    "# Add constraint: x + 2 y + z <= 4\n",
    "c1 = milp_model.addConstr(x + 2 * y + z <= 4, \"c1\")\n",
    "\n",
    "# Add constraint: 2 z + y <= 5 \\\\\n",
    "c2 = milp_model.addConstr(2 * z + y <= 5, \"c2\")\n",
    "\n",
    "# Add constraint x + y >= 1\n",
    "c3 = milp_model.addConstr(x + y >= 1, \"c3\")"
   ]
  },
  {
   "cell_type": "markdown",
   "metadata": {},
   "source": [
    "## Step 6: Solve the model"
   ]
  },
  {
   "cell_type": "code",
   "execution_count": 6,
   "metadata": {},
   "outputs": [
    {
     "name": "stdout",
     "output_type": "stream",
     "text": [
      "Gurobi Optimizer version 9.5.2 build v9.5.2rc0 (win64)\n",
      "Thread count: 8 physical cores, 8 logical processors, using up to 8 threads\n",
      "Optimize a model with 3 rows, 3 columns and 7 nonzeros\n",
      "Model fingerprint: 0x8a1c7e4e\n",
      "Variable types: 1 continuous, 2 integer (1 binary)\n",
      "Coefficient statistics:\n",
      "  Matrix range     [1e+00, 2e+00]\n",
      "  Objective range  [1e+00, 3e+00]\n",
      "  Bounds range     [1e+00, 1e+00]\n",
      "  RHS range        [1e+00, 5e+00]\n",
      "Found heuristic solution: objective 3.5000000\n",
      "Presolve removed 3 rows and 3 columns\n",
      "Presolve time: 0.02s\n",
      "Presolve: All rows and columns removed\n",
      "\n",
      "Explored 0 nodes (0 simplex iterations) in 0.04 seconds (0.00 work units)\n",
      "Thread count was 1 (of 8 available processors)\n",
      "\n",
      "Solution count 2: 8.5 3.5 \n",
      "\n",
      "Optimal solution found (tolerance 1.00e-04)\n",
      "Best objective 8.500000000000e+00, best bound 8.500000000000e+00, gap 0.0000%\n"
     ]
    }
   ],
   "source": [
    "milp_model.optimize()"
   ]
  },
  {
   "cell_type": "markdown",
   "metadata": {},
   "source": [
    "## Step 7: Output the result"
   ]
  },
  {
   "cell_type": "code",
   "execution_count": 7,
   "metadata": {},
   "outputs": [
    {
     "name": "stdout",
     "output_type": "stream",
     "text": [
      "Objective Function Value: 8.50\n",
      "x: 1\n",
      "y: 0.5\n",
      "z: 2\n"
     ]
    }
   ],
   "source": [
    "print('Objective Function Value: %.2f' % milp_model.objVal)\n",
    "# Get values of the decision variables\n",
    "for v in milp_model.getVars():\n",
    "    print('%s: %g' % (v.varName, v.x))"
   ]
  }
 ],
 "metadata": {
  "kernelspec": {
   "display_name": "Python 3 (ipykernel)",
   "language": "python",
   "name": "python3"
  },
  "language_info": {
   "codemirror_mode": {
    "name": "ipython",
    "version": 3
   },
   "file_extension": ".py",
   "mimetype": "text/x-python",
   "name": "python",
   "nbconvert_exporter": "python",
   "pygments_lexer": "ipython3",
   "version": "3.9.12"
  }
 },
 "nbformat": 4,
 "nbformat_minor": 4
}
